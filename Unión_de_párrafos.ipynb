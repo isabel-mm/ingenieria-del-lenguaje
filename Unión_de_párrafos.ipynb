{
  "nbformat": 4,
  "nbformat_minor": 0,
  "metadata": {
    "colab": {
      "provenance": [],
      "authorship_tag": "ABX9TyPPCPT0695aaPEwI4ZJubJ8",
      "include_colab_link": true
    },
    "kernelspec": {
      "name": "python3",
      "display_name": "Python 3"
    },
    "language_info": {
      "name": "python"
    }
  },
  "cells": [
    {
      "cell_type": "markdown",
      "metadata": {
        "id": "view-in-github",
        "colab_type": "text"
      },
      "source": [
        "<a href=\"https://colab.research.google.com/github/isabel-mm/ingenieria-del-lenguaje/blob/main/Uni%C3%B3n_de_p%C3%A1rrafos.ipynb\" target=\"_parent\"><img src=\"https://colab.research.google.com/assets/colab-badge.svg\" alt=\"Open In Colab\"/></a>"
      ]
    },
    {
      "cell_type": "code",
      "execution_count": 4,
      "metadata": {
        "colab": {
          "base_uri": "https://localhost:8080/"
        },
        "id": "KInDJalTFIeZ",
        "outputId": "8fe7e0cd-8516-48ec-a45e-40fedfef8609"
      },
      "outputs": [
        {
          "output_type": "stream",
          "name": "stdout",
          "text": [
            "Drive already mounted at /content/drive; to attempt to forcibly remount, call drive.mount(\"/content/drive\", force_remount=True).\n"
          ]
        }
      ],
      "source": [
        "import os\n",
        "from google.colab import drive\n",
        "\n",
        "drive.mount('/content/drive')\n",
        "\n",
        "def merge_paragraphs_in_file(file_path):\n",
        "    merged_text = \"\"\n",
        "    with open(file_path, \"r\", encoding=\"utf-8\", errors=\"replace\") as file:\n",
        "        paragraphs = file.read().split(\"\\n\\n\")  # Divide el texto en párrafos\n",
        "        for paragraph in paragraphs:\n",
        "            # Elimina saltos de línea internos y une el párrafo en una sola línea\n",
        "            paragraph = paragraph.replace(\"\\n\", \" \")\n",
        "            merged_text += paragraph + \"\\n\\n\"  # Agrega un salto de línea adicional entre párrafos\n",
        "    return merged_text\n",
        "\n",
        "def save_processed_text(text, output_file):\n",
        "    with open(output_file, \"w\", encoding=\"utf-8\") as file:\n",
        "        file.write(text)\n",
        "\n",
        "if __name__ == \"__main__\":\n",
        "    directory = \"/content/drive/My Drive/Colab Notebooks/inglés\"\n",
        "    output_directory = \"/content/drive/My Drive/Colab Notebooks/nuevo\"\n",
        "\n",
        "    # Asegurarse de que el directorio de salida exista, si no, crearlo\n",
        "    if not os.path.exists(output_directory):\n",
        "        os.makedirs(output_directory)\n",
        "\n",
        "    # Procesar cada archivo de texto en el directorio\n",
        "    for filename in os.listdir(directory):\n",
        "        if filename.endswith(\".txt\"):\n",
        "            file_path = os.path.join(directory, filename)\n",
        "            output_file = os.path.join(output_directory, filename)\n",
        "            try:\n",
        "                processed_text = merge_paragraphs_in_file(file_path)\n",
        "                save_processed_text(processed_text, output_file)\n",
        "            except Exception as e:\n",
        "                print(f\"Error al procesar el archivo {filename}: {str(e)}\")\n"
      ]
    }
  ]
}